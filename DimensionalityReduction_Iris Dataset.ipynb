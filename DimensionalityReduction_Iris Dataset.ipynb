{
 "cells": [
  {
   "cell_type": "code",
   "execution_count": 0,
   "metadata": {
    "application/vnd.databricks.v1+cell": {
     "cellMetadata": {
      "byteLimit": 2048000,
      "rowLimit": 10000
     },
     "inputWidgets": {},
     "nuid": "3f540a43-2bea-40ca-a5c6-eec3401e755b",
     "showTitle": false,
     "tableResultSettingsMap": {},
     "title": ""
    }
   },
   "outputs": [
    {
     "output_type": "stream",
     "name": "stdout",
     "output_type": "stream",
     "text": [
      "  % Total    % Received % Xferd  Average Speed   Time    Time     Time  Current\r\n                                 Dload  Upload   Total   Spent    Left  Speed\r\n\r  0     0    0     0    0     0      0      0 --:--:-- --:--:-- --:--:--     0\r  0     0    0     0    0     0      0      0 --:--:-- --:--:-- --:--:--     0\r\n\r100  3687  100  3687    0     0   8475      0 --:--:-- --:--:-- --:--:--  8475\r\n"
     ]
    }
   ],
   "source": [
    "!curl -L -o archive.zip https://www.kaggle.com/api/v1/datasets/download/uciml/iris"
   ]
  },
  {
   "cell_type": "code",
   "execution_count": 0,
   "metadata": {
    "application/vnd.databricks.v1+cell": {
     "cellMetadata": {
      "byteLimit": 2048000,
      "rowLimit": 10000
     },
     "inputWidgets": {},
     "nuid": "4654240b-ad58-4836-bfc4-cc925a77b39c",
     "showTitle": false,
     "tableResultSettingsMap": {},
     "title": ""
    }
   },
   "outputs": [
    {
     "output_type": "stream",
     "name": "stdout",
     "output_type": "stream",
     "text": [
      "Archive:  archive.zip\r\n  inflating: iris-dataset-cleaned/Iris.csv  \r\n  inflating: iris-dataset-cleaned/database.sqlite  \r\n"
     ]
    }
   ],
   "source": [
    "!unzip -o archive.zip -d iris-dataset-cleaned"
   ]
  },
  {
   "cell_type": "code",
   "execution_count": 0,
   "metadata": {
    "application/vnd.databricks.v1+cell": {
     "cellMetadata": {
      "byteLimit": 2048000,
      "rowLimit": 10000
     },
     "inputWidgets": {},
     "nuid": "fc6b420e-45bd-4fc6-8824-02b64cba8706",
     "showTitle": false,
     "tableResultSettingsMap": {},
     "title": ""
    }
   },
   "outputs": [
    {
     "output_type": "display_data",
     "data": {
      "application/vnd.databricks.v1+bamboolib_hint": "{\"pd.DataFrames\": [], \"version\": \"0.0.1\"}",
      "text/plain": []
     },
     "metadata": {},
     "output_type": "display_data"
    }
   ],
   "source": [
    "import numpy as np\n",
    "import pandas as pd\n",
    "import matplotlib.pyplot as plt\n",
    "from sklearn.preprocessing import StandardScaler\n",
    "from sklearn.decomposition import PCA"
   ]
  },
  {
   "cell_type": "code",
   "execution_count": 0,
   "metadata": {
    "application/vnd.databricks.v1+cell": {
     "cellMetadata": {
      "byteLimit": 2048000,
      "rowLimit": 10000
     },
     "inputWidgets": {},
     "nuid": "60756cdb-9c20-4b3c-aeec-2bc61bd39a9f",
     "showTitle": false,
     "tableResultSettingsMap": {},
     "title": ""
    }
   },
   "outputs": [],
   "source": [
    "# Load dataset\n",
    "iris_df = pd.read_csv('iris-dataset-cleaned/Iris.csv')"
   ]
  },
  {
   "cell_type": "code",
   "execution_count": 0,
   "metadata": {
    "application/vnd.databricks.v1+cell": {
     "cellMetadata": {
      "byteLimit": 2048000,
      "rowLimit": 10000
     },
     "inputWidgets": {},
     "nuid": "1ffb2ba9-4381-4880-b4a7-abe5a9086132",
     "showTitle": false,
     "tableResultSettingsMap": {},
     "title": ""
    }
   },
   "outputs": [],
   "source": [
    "iris_features = iris_df.drop(['Id', 'Species'], axis=1)"
   ]
  },
  {
   "cell_type": "code",
   "execution_count": 0,
   "metadata": {
    "application/vnd.databricks.v1+cell": {
     "cellMetadata": {
      "byteLimit": 2048000,
      "rowLimit": 10000
     },
     "inputWidgets": {},
     "nuid": "a3817b67-c1c0-4b79-bbc5-14db187885ea",
     "showTitle": false,
     "tableResultSettingsMap": {},
     "title": ""
    }
   },
   "outputs": [],
   "source": [
    "scaler = StandardScaler()\n",
    "iris_standardized = scaler.fit_transform(iris_features)"
   ]
  },
  {
   "cell_type": "code",
   "execution_count": 0,
   "metadata": {
    "application/vnd.databricks.v1+cell": {
     "cellMetadata": {
      "byteLimit": 2048000,
      "rowLimit": 10000
     },
     "inputWidgets": {},
     "nuid": "2bcbbec3-6af1-4239-803d-4f18ed61c17f",
     "showTitle": false,
     "tableResultSettingsMap": {},
     "title": ""
    }
   },
   "outputs": [],
   "source": [
    "pca = PCA(n_components=2)  # Reduce to 2 dimensions\n",
    "iris_pca = pca.fit_transform(iris_standardized)"
   ]
  },
  {
   "cell_type": "code",
   "execution_count": 0,
   "metadata": {
    "application/vnd.databricks.v1+cell": {
     "cellMetadata": {
      "byteLimit": 2048000,
      "rowLimit": 10000
     },
     "inputWidgets": {},
     "nuid": "7098146b-8452-4eac-ad84-b0927ca6b586",
     "showTitle": false,
     "tableResultSettingsMap": {},
     "title": ""
    }
   },
   "outputs": [
    {
     "output_type": "stream",
     "name": "stdout",
     "output_type": "stream",
     "text": [
      "Explained Variance Ratio: [0.72770452 0.23030523]\n"
     ]
    }
   ],
   "source": [
    "print(\"Explained Variance Ratio:\", pca.explained_variance_ratio_)"
   ]
  },
  {
   "cell_type": "code",
   "execution_count": 0,
   "metadata": {
    "application/vnd.databricks.v1+cell": {
     "cellMetadata": {
      "byteLimit": 2048000,
      "rowLimit": 10000
     },
     "inputWidgets": {},
     "nuid": "c26d2e1c-b667-434a-894e-d744c89b313b",
     "showTitle": false,
     "tableResultSettingsMap": {},
     "title": ""
    }
   },
   "outputs": [],
   "source": [
    "iris_df['PCA1'] = iris_pca[:, 0]\n",
    "iris_df['PCA2'] = iris_pca[:, 1]"
   ]
  },
  {
   "cell_type": "code",
   "execution_count": 0,
   "metadata": {
    "application/vnd.databricks.v1+cell": {
     "cellMetadata": {
      "byteLimit": 2048000,
      "rowLimit": 10000
     },
     "inputWidgets": {},
     "nuid": "139331f8-b170-4cb1-b1ac-e1b708142ffb",
     "showTitle": false,
     "tableResultSettingsMap": {},
     "title": ""
    }
   },
   "outputs": [
    {
     "output_type": "display_data",
     "data": {
      "image/png": "[encoded data removed]"
     },
     "metadata": {
      "application/vnd.databricks.v1+output": {
       "addedWidgets": {},
       "arguments": {},
       "data": "data:image/png;base64,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\n",
       "datasetInfos": [],
       "metadata": {},
       "removedWidgets": [],
       "type": "image"
      }
     },
     "output_type": "display_data"
    }
   ],
   "source": [
    "plt.figure(figsize=(8, 6))\n",
    "for species in iris_df['Species'].unique():\n",
    "    subset = iris_df[iris_df['Species'] == species]\n",
    "    plt.scatter(subset['PCA1'], subset['PCA2'], label=species)\n",
    "\n",
    "plt.title('PCA of Iris Dataset')\n",
    "plt.xlabel('Principal Component 1')\n",
    "plt.ylabel('Principal Component 2')\n",
    "plt.legend()\n",
    "plt.show()"
   ]
  }
 ],
 "metadata": {
  "application/vnd.databricks.v1+notebook": {
   "dashboards": [],
   "environmentMetadata": null,
   "language": "python",
   "notebookMetadata": {
    "pythonIndentUnit": 4
   },
   "notebookName": "DimensionalityReduction_Iris Dataset",
   "widgets": {}
  }
 },
 "nbformat": 4,
 "nbformat_minor": 0
}
